{
 "cells": [
  {
   "cell_type": "markdown",
   "metadata": {},
   "source": [
    "1. Give instructions\n",
    "``` python\n",
    "print(\"I'm thinking of a number between 1 and 100\")\n",
    "```\n",
    "2. Think of a number\n",
    "```python\n",
    "from random import randint\n",
    "answer = randint(1,100)\n",
    "```\n",
    "3. Get players guess\n",
    "```python\n",
    "guess = int(input('What is your guess?\\n'))\n",
    "```\n",
    "4. if answer and guess are the same, they win\n",
    "```python\n",
    "if answer == guess:\n",
    "    print('Congratulations')\n",
    "```\n",
    "5. if answer is greater than guess, say Higher\n",
    "```python\n",
    "elif answer > guess:\n",
    "    print('The number is higher than that')\n",
    "```\n",
    "6. otherwise say lower\n",
    "```python\n",
    "else:\n",
    "    print('The number is lower than that')\n",
    "```\n",
    "7. got to step 3\n",
    "```python\n",
    "while game_on:\n",
    "``` "
   ]
  },
  {
   "cell_type": "code",
   "execution_count": null,
   "metadata": {},
   "outputs": [],
   "source": [
    "from random import randint\n",
    "\n",
    "print(\"I'm going to think of a number between 1 and 100\")\n",
    "\n",
    "game_on = True\n",
    "\n",
    "answer = randint(1,100)\n",
    "\n",
    "while game_on:\n",
    "    guess = int(input('What is your guess? '))\n",
    "    if answer == guess:\n",
    "        print('you win!')\n",
    "        game_on = False\n",
    "    elif answer > guess:\n",
    "        print('The answer is higher than that')\n",
    "    else:\n",
    "        print('The answer is lower than that')"
   ]
  },
  {
   "cell_type": "code",
   "execution_count": 1,
   "metadata": {},
   "outputs": [],
   "source": [
    "def function_one(var_1, var_2):\n",
    "    \n",
    "    print('with variables')\n",
    " \n",
    "    result = var_1 + var_2\n",
    "    \n",
    "    return result"
   ]
  },
  {
   "cell_type": "code",
   "execution_count": 2,
   "metadata": {},
   "outputs": [],
   "source": [
    "def function_two():\n",
    "    \n",
    "    print('without variables')\n",
    "\n",
    "    result = var_1 + var_2\n",
    "    \n",
    "    return result"
   ]
  },
  {
   "cell_type": "code",
   "execution_count": 3,
   "metadata": {},
   "outputs": [
    {
     "name": "stdout",
     "output_type": "stream",
     "text": [
      "with variables\n"
     ]
    },
    {
     "data": {
      "text/plain": [
       "6"
      ]
     },
     "execution_count": 3,
     "metadata": {},
     "output_type": "execute_result"
    }
   ],
   "source": [
    "function_one(var_1= 2, var_2= 4)"
   ]
  },
  {
   "cell_type": "code",
   "execution_count": 5,
   "metadata": {},
   "outputs": [],
   "source": [
    "var_1 = 7\n",
    "var_2 = 10"
   ]
  },
  {
   "cell_type": "code",
   "execution_count": 6,
   "metadata": {},
   "outputs": [
    {
     "name": "stdout",
     "output_type": "stream",
     "text": [
      "without variables\n"
     ]
    },
    {
     "data": {
      "text/plain": [
       "17"
      ]
     },
     "execution_count": 6,
     "metadata": {},
     "output_type": "execute_result"
    }
   ],
   "source": [
    "function_two()"
   ]
  },
  {
   "cell_type": "code",
   "execution_count": null,
   "metadata": {},
   "outputs": [],
   "source": [
    "lower, upper = get_boundaries()"
   ]
  },
  {
   "cell_type": "code",
   "execution_count": 32,
   "metadata": {},
   "outputs": [],
   "source": [
    "a = 10\n",
    "b = 15\n",
    "c = a + b\n"
   ]
  },
  {
   "cell_type": "code",
   "execution_count": 33,
   "metadata": {},
   "outputs": [
    {
     "data": {
      "text/plain": [
       "4424808128"
      ]
     },
     "execution_count": 33,
     "metadata": {},
     "output_type": "execute_result"
    }
   ],
   "source": [
    "id(a)"
   ]
  },
  {
   "cell_type": "code",
   "execution_count": 34,
   "metadata": {},
   "outputs": [
    {
     "data": {
      "text/plain": [
       "4424808288"
      ]
     },
     "execution_count": 34,
     "metadata": {},
     "output_type": "execute_result"
    }
   ],
   "source": [
    "id(b)"
   ]
  },
  {
   "cell_type": "code",
   "execution_count": 35,
   "metadata": {},
   "outputs": [
    {
     "data": {
      "text/plain": [
       "4424808608"
      ]
     },
     "execution_count": 35,
     "metadata": {},
     "output_type": "execute_result"
    }
   ],
   "source": [
    "id(c)"
   ]
  },
  {
   "cell_type": "code",
   "execution_count": 29,
   "metadata": {},
   "outputs": [
    {
     "data": {
      "text/plain": [
       "25"
      ]
     },
     "execution_count": 29,
     "metadata": {},
     "output_type": "execute_result"
    }
   ],
   "source": [
    "c"
   ]
  },
  {
   "cell_type": "code",
   "execution_count": 30,
   "metadata": {},
   "outputs": [],
   "source": [
    "b = 100"
   ]
  },
  {
   "cell_type": "code",
   "execution_count": 31,
   "metadata": {},
   "outputs": [
    {
     "data": {
      "text/plain": [
       "25"
      ]
     },
     "execution_count": 31,
     "metadata": {},
     "output_type": "execute_result"
    }
   ],
   "source": [
    "c"
   ]
  },
  {
   "cell_type": "code",
   "execution_count": 36,
   "metadata": {},
   "outputs": [],
   "source": [
    "my_list_a = [1,2,3,4,5]\n",
    "my_list_b = my_list_a"
   ]
  },
  {
   "cell_type": "code",
   "execution_count": 37,
   "metadata": {},
   "outputs": [
    {
     "data": {
      "text/plain": [
       "4463440968"
      ]
     },
     "execution_count": 37,
     "metadata": {},
     "output_type": "execute_result"
    }
   ],
   "source": [
    "id(my_list_a)"
   ]
  },
  {
   "cell_type": "code",
   "execution_count": 38,
   "metadata": {},
   "outputs": [
    {
     "data": {
      "text/plain": [
       "4463440968"
      ]
     },
     "execution_count": 38,
     "metadata": {},
     "output_type": "execute_result"
    }
   ],
   "source": [
    "id(my_list_b)"
   ]
  },
  {
   "cell_type": "code",
   "execution_count": 23,
   "metadata": {},
   "outputs": [
    {
     "data": {
      "text/plain": [
       "[1, 2, 3, 4, 5]"
      ]
     },
     "execution_count": 23,
     "metadata": {},
     "output_type": "execute_result"
    }
   ],
   "source": [
    "my_list_b"
   ]
  },
  {
   "cell_type": "code",
   "execution_count": 24,
   "metadata": {},
   "outputs": [
    {
     "data": {
      "text/plain": [
       "[1, 2, 3, 4, 5]"
      ]
     },
     "execution_count": 24,
     "metadata": {},
     "output_type": "execute_result"
    }
   ],
   "source": [
    "my_list_a"
   ]
  },
  {
   "cell_type": "code",
   "execution_count": 39,
   "metadata": {},
   "outputs": [],
   "source": [
    "my_list_a[3] = 'A'"
   ]
  },
  {
   "cell_type": "code",
   "execution_count": 40,
   "metadata": {},
   "outputs": [
    {
     "data": {
      "text/plain": [
       "[1, 2, 3, 'A', 5]"
      ]
     },
     "execution_count": 40,
     "metadata": {},
     "output_type": "execute_result"
    }
   ],
   "source": [
    "my_list_a"
   ]
  },
  {
   "cell_type": "code",
   "execution_count": 41,
   "metadata": {},
   "outputs": [
    {
     "data": {
      "text/plain": [
       "4463440968"
      ]
     },
     "execution_count": 41,
     "metadata": {},
     "output_type": "execute_result"
    }
   ],
   "source": [
    "id(my_list_a)"
   ]
  },
  {
   "cell_type": "code",
   "execution_count": null,
   "metadata": {},
   "outputs": [],
   "source": [
    "4463440968"
   ]
  },
  {
   "cell_type": "code",
   "execution_count": 27,
   "metadata": {},
   "outputs": [
    {
     "data": {
      "text/plain": [
       "[1, 2, 3, 'A', 5]"
      ]
     },
     "execution_count": 27,
     "metadata": {},
     "output_type": "execute_result"
    }
   ],
   "source": [
    "my_list_b"
   ]
  },
  {
   "cell_type": "code",
   "execution_count": 15,
   "metadata": {},
   "outputs": [],
   "source": [
    "my_list_a = [5,4,3,2,1]"
   ]
  },
  {
   "cell_type": "code",
   "execution_count": 21,
   "metadata": {},
   "outputs": [
    {
     "data": {
      "text/plain": [
       "[1, 2, 3, 'A', 5]"
      ]
     },
     "execution_count": 21,
     "metadata": {},
     "output_type": "execute_result"
    }
   ],
   "source": [
    "my_list_b"
   ]
  },
  {
   "cell_type": "code",
   "execution_count": null,
   "metadata": {},
   "outputs": [],
   "source": [
    "my_list_a + 1"
   ]
  },
  {
   "cell_type": "code",
   "execution_count": 42,
   "metadata": {},
   "outputs": [
    {
     "name": "stdout",
     "output_type": "stream",
     "text": [
      "def function_one(var_1, var_2):\n",
      "    \n",
      "    print('with variables')\n",
      " \n",
      "    result = var_1 + var_2\n",
      "    \n",
      "    return result\n",
      "def function_two():\n",
      "    \n",
      "    print('without variables')\n",
      "\n",
      "    result = var_1 + var_2\n",
      "    \n",
      "    return result\n",
      "function_one(var_1= 2, var_2= 4)\n",
      "function_two()\n",
      "var_1 = 7\n",
      "var_2 = 10\n",
      "function_two()\n",
      "a = 10\n",
      "b = 15\n",
      "c = a + b\n",
      "c\n",
      "b = 100\n",
      "my_list_a = [1,2,3,4,5]\n",
      "my_list_b = my_list_a\n",
      "my_list_b\n",
      "my_list_a\n",
      "my_list_a = [5,4,3,2,1]\n",
      "my_list_b\n",
      "my_list_a = [5,4,3,2,1]\n",
      "my_list_b\n",
      "my_list_a = [1,2,3,4,5]\n",
      "my_list_b = my_list_a\n",
      "my_list_b\n",
      "my_list_a[3] = 'A'\n",
      "my_list_a\n",
      "my_list_b\n",
      "my_list_a = [1,2,3,4,5]\n",
      "my_list_b = my_list_a\n",
      "my_list_b\n",
      "my_list_a\n",
      "my_list_a[3] = 'A'\n",
      "my_list_a\n",
      "my_list_b\n",
      "a = 10\n",
      "b = 15\n",
      "c = a + b\n",
      "c\n",
      "b = 100\n",
      "c\n",
      "a = 10\n",
      "b = 15\n",
      "c = a + b\n",
      "id(a)\n",
      "id(b)\n",
      "id(c)\n",
      "my_list_a = [1,2,3,4,5]\n",
      "my_list_b = my_list_a\n",
      "id(my_list_a)\n",
      "id(my_list_b)\n",
      "my_list_a[3] = 'A'\n",
      "my_list_a\n",
      "id(my_list_a)\n",
      "%history\n"
     ]
    }
   ],
   "source": [
    "%history"
   ]
  },
  {
   "cell_type": "code",
   "execution_count": null,
   "metadata": {},
   "outputs": [],
   "source": []
  }
 ],
 "metadata": {
  "kernelspec": {
   "display_name": "Python 3",
   "language": "python",
   "name": "python3"
  },
  "language_info": {
   "codemirror_mode": {
    "name": "ipython",
    "version": 3
   },
   "file_extension": ".py",
   "mimetype": "text/x-python",
   "name": "python",
   "nbconvert_exporter": "python",
   "pygments_lexer": "ipython3",
   "version": "3.7.3"
  }
 },
 "nbformat": 4,
 "nbformat_minor": 2
}
