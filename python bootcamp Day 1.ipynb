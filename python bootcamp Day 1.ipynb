{
 "cells": [
  {
   "cell_type": "markdown",
   "metadata": {},
   "source": [
    "https://www.dataschool.io/python-quick-reference/"
   ]
  },
  {
   "cell_type": "code",
   "execution_count": 5,
   "metadata": {},
   "outputs": [
    {
     "name": "stdout",
     "output_type": "stream",
     "text": [
      "I'm going to think of a number between 1 and 100\n"
     ]
    }
   ],
   "source": [
    "print('I\\'m going to think of a number between 1 and 100')"
   ]
  },
  {
   "cell_type": "code",
   "execution_count": 11,
   "metadata": {},
   "outputs": [],
   "source": [
    "from random import randint"
   ]
  },
  {
   "cell_type": "code",
   "execution_count": 20,
   "metadata": {},
   "outputs": [],
   "source": [
    "c"
   ]
  },
  {
   "cell_type": "code",
   "execution_count": 22,
   "metadata": {},
   "outputs": [
    {
     "data": {
      "text/plain": [
       "38"
      ]
     },
     "execution_count": 22,
     "metadata": {},
     "output_type": "execute_result"
    }
   ],
   "source": [
    "answer"
   ]
  },
  {
   "cell_type": "code",
   "execution_count": 32,
   "metadata": {},
   "outputs": [
    {
     "name": "stdout",
     "output_type": "stream",
     "text": [
      "What is your guess? 42\n"
     ]
    }
   ],
   "source": [
    "guess = int(input('What is your guess? '))"
   ]
  },
  {
   "cell_type": "code",
   "execution_count": 33,
   "metadata": {},
   "outputs": [
    {
     "data": {
      "text/plain": [
       "int"
      ]
     },
     "execution_count": 33,
     "metadata": {},
     "output_type": "execute_result"
    }
   ],
   "source": [
    "type(guess)"
   ]
  },
  {
   "cell_type": "code",
   "execution_count": 34,
   "metadata": {},
   "outputs": [
    {
     "data": {
      "text/plain": [
       "False"
      ]
     },
     "execution_count": 34,
     "metadata": {},
     "output_type": "execute_result"
    }
   ],
   "source": [
    "answer == guess"
   ]
  },
  {
   "cell_type": "code",
   "execution_count": 36,
   "metadata": {},
   "outputs": [
    {
     "data": {
      "text/plain": [
       "False"
      ]
     },
     "execution_count": 36,
     "metadata": {},
     "output_type": "execute_result"
    }
   ],
   "source": [
    "answer > guess"
   ]
  },
  {
   "cell_type": "code",
   "execution_count": 37,
   "metadata": {},
   "outputs": [],
   "source": [
    "my_list = [1,22,3.7,'dog',[1,2,3]]"
   ]
  },
  {
   "cell_type": "code",
   "execution_count": 40,
   "metadata": {},
   "outputs": [
    {
     "name": "stdout",
     "output_type": "stream",
     "text": [
      "1\n",
      "22\n",
      "3.7\n",
      "dog\n",
      "[1, 2, 3]\n"
     ]
    }
   ],
   "source": [
    "for i in my_list:\n",
    "    print(i)"
   ]
  },
  {
   "cell_type": "code",
   "execution_count": 41,
   "metadata": {},
   "outputs": [
    {
     "data": {
      "text/plain": [
       "3.7"
      ]
     },
     "execution_count": 41,
     "metadata": {},
     "output_type": "execute_result"
    }
   ],
   "source": [
    "my_list[2]"
   ]
  },
  {
   "cell_type": "code",
   "execution_count": 42,
   "metadata": {},
   "outputs": [],
   "source": [
    "from glob import glob"
   ]
  },
  {
   "cell_type": "code",
   "execution_count": 86,
   "metadata": {},
   "outputs": [
    {
     "name": "stdout",
     "output_type": "stream",
     "text": [
      "Autism Q automate (Responses) - Form responses 1.csv\r\n",
      "BTCMarkets_BTCAUD_1h.csv\r\n",
      "BTCMarkets_BTCAUD_d.csv\r\n",
      "Data-Science 101 (Responses) - Form responses 1.csv\r\n",
      "\u001b[34mDrumMachines_v8.3\u001b[m\u001b[m/\r\n",
      "DrumMachines_v8.3.zip\r\n",
      "Exploring_Kubernetes.pdf\r\n",
      "\u001b[34mHer (2013)\u001b[m\u001b[m/\r\n",
      "MelodicsV2.dmg\r\n",
      "Payslip_201810.pdf\r\n",
      "Payslip_201812-1.pdf\r\n",
      "Payslip_201812.pdf\r\n",
      "Payslip_201905-1.pdf\r\n",
      "Payslip_201905.pdf\r\n",
      "PuremagnetikRetroSynths_r18888_v3.1.alp\r\n",
      "ReasonLite_1040_d2.dmg\r\n",
      "START_DataDictionary_2019-09-07.csv\r\n",
      "Safe_Programming_with_Kotlin.pdf\r\n",
      "Storyboarder-1.14.0.dmg\r\n",
      "\u001b[34mleeanne\u001b[m\u001b[m/\r\n",
      "magenta_studio-1.0.0-macos.amxd\r\n",
      "oasis_longitudinal_demographics.xlsx\r\n",
      "onss_bom_1.2.0.xlsx\r\n",
      "\u001b[34mrob\u001b[m\u001b[m/\r\n",
      "titanic3.xls\r\n"
     ]
    }
   ],
   "source": [
    "ls Downloads/"
   ]
  },
  {
   "cell_type": "code",
   "execution_count": 90,
   "metadata": {},
   "outputs": [],
   "source": [
    "filenames = glob('*.ipynb')"
   ]
  },
  {
   "cell_type": "code",
   "execution_count": 91,
   "metadata": {},
   "outputs": [
    {
     "data": {
      "text/plain": [
       "['Untitled10.ipynb',\n",
       " 'Untitled7.ipynb',\n",
       " 'Untitled12.ipynb',\n",
       " 'Untitled5.ipynb',\n",
       " 'Untitled1.ipynb',\n",
       " 'Untitled3.ipynb',\n",
       " 'Untitled.ipynb',\n",
       " 'Untitled4.ipynb',\n",
       " 'Untitled13.ipynb',\n",
       " 'Untitled6.ipynb',\n",
       " 'Untitled11.ipynb',\n",
       " 'Untitled2.ipynb',\n",
       " 'Untitled8.ipynb',\n",
       " 'Untitled9.ipynb']"
      ]
     },
     "execution_count": 91,
     "metadata": {},
     "output_type": "execute_result"
    }
   ],
   "source": [
    "untitled_list = []\n",
    "\n",
    "for name in filenames:\n",
    "    if name.startswith('U'):\n",
    "        untitled_list.append(name)\n",
    "        \n",
    "untitled_list"
   ]
  },
  {
   "cell_type": "code",
   "execution_count": 93,
   "metadata": {},
   "outputs": [],
   "source": [
    "untitled_list.sort()"
   ]
  },
  {
   "cell_type": "code",
   "execution_count": 94,
   "metadata": {},
   "outputs": [
    {
     "data": {
      "text/plain": [
       "['Untitled.ipynb',\n",
       " 'Untitled1.ipynb',\n",
       " 'Untitled10.ipynb',\n",
       " 'Untitled11.ipynb',\n",
       " 'Untitled12.ipynb',\n",
       " 'Untitled13.ipynb',\n",
       " 'Untitled2.ipynb',\n",
       " 'Untitled3.ipynb',\n",
       " 'Untitled4.ipynb',\n",
       " 'Untitled5.ipynb',\n",
       " 'Untitled6.ipynb',\n",
       " 'Untitled7.ipynb',\n",
       " 'Untitled8.ipynb',\n",
       " 'Untitled9.ipynb']"
      ]
     },
     "execution_count": 94,
     "metadata": {},
     "output_type": "execute_result"
    }
   ],
   "source": [
    "untitled_list"
   ]
  },
  {
   "cell_type": "code",
   "execution_count": 49,
   "metadata": {},
   "outputs": [],
   "source": [
    "my_string = 'alistair walsh'"
   ]
  },
  {
   "cell_type": "code",
   "execution_count": 52,
   "metadata": {},
   "outputs": [
    {
     "data": {
      "text/plain": [
       "['alistair', 'walsh']"
      ]
     },
     "execution_count": 52,
     "metadata": {},
     "output_type": "execute_result"
    }
   ],
   "source": [
    "my_string.split()"
   ]
  },
  {
   "cell_type": "code",
   "execution_count": 53,
   "metadata": {},
   "outputs": [],
   "source": [
    "my_string = 'The quick brown fox jumped over the lazy dog'"
   ]
  },
  {
   "cell_type": "code",
   "execution_count": 56,
   "metadata": {},
   "outputs": [
    {
     "data": {
      "text/plain": [
       "['The qu', 'ck brown fox jumped over the lazy dog']"
      ]
     },
     "execution_count": 56,
     "metadata": {},
     "output_type": "execute_result"
    }
   ],
   "source": [
    "my_string.split('i')"
   ]
  },
  {
   "cell_type": "code",
   "execution_count": 67,
   "metadata": {},
   "outputs": [
    {
     "data": {
      "text/plain": [
       "[10, 30, 50, 70, 90]"
      ]
     },
     "execution_count": 67,
     "metadata": {},
     "output_type": "execute_result"
    }
   ],
   "source": [
    "[i*10 for i in range(10) if i%2!=0]"
   ]
  },
  {
   "cell_type": "code",
   "execution_count": 97,
   "metadata": {},
   "outputs": [
    {
     "name": "stdout",
     "output_type": "stream",
     "text": [
      "0 is even\n",
      "1 is odd\n",
      "2 is even\n",
      "3 is divisible by 3\n",
      "4 is even\n",
      "5 is odd\n",
      "6 is even\n",
      "7 is odd\n",
      "8 is even\n",
      "9 is divisible by 3\n"
     ]
    }
   ],
   "source": [
    "for i in range(10):\n",
    "    if i%2==0:\n",
    "        print(i, 'is even')\n",
    "    elif i%3==0:\n",
    "        print(i, 'is divisible by 3')\n",
    "    else:\n",
    "        print(i, 'is odd')\n",
    "        "
   ]
  },
  {
   "cell_type": "code",
   "execution_count": 101,
   "metadata": {},
   "outputs": [
    {
     "data": {
      "text/plain": [
       "0"
      ]
     },
     "execution_count": 101,
     "metadata": {},
     "output_type": "execute_result"
    }
   ],
   "source": [
    "my_nums.index(1)"
   ]
  },
  {
   "cell_type": "code",
   "execution_count": 103,
   "metadata": {},
   "outputs": [
    {
     "name": "stdout",
     "output_type": "stream",
     "text": [
      "hello\n",
      "python\n"
     ]
    }
   ],
   "source": [
    "game_on = True\n",
    "while game_on:\n",
    "    \n",
    "    print('hello')\n",
    "    print('python')\n",
    "    game_on = False\n",
    "    "
   ]
  },
  {
   "cell_type": "code",
   "execution_count": 153,
   "metadata": {},
   "outputs": [
    {
     "name": "stdout",
     "output_type": "stream",
     "text": [
      "I'm going to think of a number between 1 and 100\n",
      "50\n",
      "What is your guess? -27\n",
      "The number is higher than that\n",
      "The number is between 1 and 100\n"
     ]
    },
    {
     "ename": "KeyboardInterrupt",
     "evalue": "",
     "output_type": "error",
     "traceback": [
      "\u001b[0;31m---------------------------------------------------------------------------\u001b[0m",
      "\u001b[0;31mKeyboardInterrupt\u001b[0m                         Traceback (most recent call last)",
      "\u001b[0;32m~/anaconda3/lib/python3.7/site-packages/ipykernel/kernelbase.py\u001b[0m in \u001b[0;36m_input_request\u001b[0;34m(self, prompt, ident, parent, password)\u001b[0m\n\u001b[1;32m    884\u001b[0m             \u001b[0;32mtry\u001b[0m\u001b[0;34m:\u001b[0m\u001b[0;34m\u001b[0m\u001b[0;34m\u001b[0m\u001b[0m\n\u001b[0;32m--> 885\u001b[0;31m                 \u001b[0mident\u001b[0m\u001b[0;34m,\u001b[0m \u001b[0mreply\u001b[0m \u001b[0;34m=\u001b[0m \u001b[0mself\u001b[0m\u001b[0;34m.\u001b[0m\u001b[0msession\u001b[0m\u001b[0;34m.\u001b[0m\u001b[0mrecv\u001b[0m\u001b[0;34m(\u001b[0m\u001b[0mself\u001b[0m\u001b[0;34m.\u001b[0m\u001b[0mstdin_socket\u001b[0m\u001b[0;34m,\u001b[0m \u001b[0;36m0\u001b[0m\u001b[0;34m)\u001b[0m\u001b[0;34m\u001b[0m\u001b[0;34m\u001b[0m\u001b[0m\n\u001b[0m\u001b[1;32m    886\u001b[0m             \u001b[0;32mexcept\u001b[0m \u001b[0mException\u001b[0m\u001b[0;34m:\u001b[0m\u001b[0;34m\u001b[0m\u001b[0;34m\u001b[0m\u001b[0m\n",
      "\u001b[0;32m~/anaconda3/lib/python3.7/site-packages/jupyter_client/session.py\u001b[0m in \u001b[0;36mrecv\u001b[0;34m(self, socket, mode, content, copy)\u001b[0m\n\u001b[1;32m    802\u001b[0m         \u001b[0;32mtry\u001b[0m\u001b[0;34m:\u001b[0m\u001b[0;34m\u001b[0m\u001b[0;34m\u001b[0m\u001b[0m\n\u001b[0;32m--> 803\u001b[0;31m             \u001b[0mmsg_list\u001b[0m \u001b[0;34m=\u001b[0m \u001b[0msocket\u001b[0m\u001b[0;34m.\u001b[0m\u001b[0mrecv_multipart\u001b[0m\u001b[0;34m(\u001b[0m\u001b[0mmode\u001b[0m\u001b[0;34m,\u001b[0m \u001b[0mcopy\u001b[0m\u001b[0;34m=\u001b[0m\u001b[0mcopy\u001b[0m\u001b[0;34m)\u001b[0m\u001b[0;34m\u001b[0m\u001b[0;34m\u001b[0m\u001b[0m\n\u001b[0m\u001b[1;32m    804\u001b[0m         \u001b[0;32mexcept\u001b[0m \u001b[0mzmq\u001b[0m\u001b[0;34m.\u001b[0m\u001b[0mZMQError\u001b[0m \u001b[0;32mas\u001b[0m \u001b[0me\u001b[0m\u001b[0;34m:\u001b[0m\u001b[0;34m\u001b[0m\u001b[0;34m\u001b[0m\u001b[0m\n",
      "\u001b[0;32m~/anaconda3/lib/python3.7/site-packages/zmq/sugar/socket.py\u001b[0m in \u001b[0;36mrecv_multipart\u001b[0;34m(self, flags, copy, track)\u001b[0m\n\u001b[1;32m    469\u001b[0m         \"\"\"\n\u001b[0;32m--> 470\u001b[0;31m         \u001b[0mparts\u001b[0m \u001b[0;34m=\u001b[0m \u001b[0;34m[\u001b[0m\u001b[0mself\u001b[0m\u001b[0;34m.\u001b[0m\u001b[0mrecv\u001b[0m\u001b[0;34m(\u001b[0m\u001b[0mflags\u001b[0m\u001b[0;34m,\u001b[0m \u001b[0mcopy\u001b[0m\u001b[0;34m=\u001b[0m\u001b[0mcopy\u001b[0m\u001b[0;34m,\u001b[0m \u001b[0mtrack\u001b[0m\u001b[0;34m=\u001b[0m\u001b[0mtrack\u001b[0m\u001b[0;34m)\u001b[0m\u001b[0;34m]\u001b[0m\u001b[0;34m\u001b[0m\u001b[0;34m\u001b[0m\u001b[0m\n\u001b[0m\u001b[1;32m    471\u001b[0m         \u001b[0;31m# have first part already, only loop while more to receive\u001b[0m\u001b[0;34m\u001b[0m\u001b[0;34m\u001b[0m\u001b[0;34m\u001b[0m\u001b[0m\n",
      "\u001b[0;32mzmq/backend/cython/socket.pyx\u001b[0m in \u001b[0;36mzmq.backend.cython.socket.Socket.recv\u001b[0;34m()\u001b[0m\n",
      "\u001b[0;32mzmq/backend/cython/socket.pyx\u001b[0m in \u001b[0;36mzmq.backend.cython.socket.Socket.recv\u001b[0;34m()\u001b[0m\n",
      "\u001b[0;32mzmq/backend/cython/socket.pyx\u001b[0m in \u001b[0;36mzmq.backend.cython.socket._recv_copy\u001b[0;34m()\u001b[0m\n",
      "\u001b[0;32m~/anaconda3/lib/python3.7/site-packages/zmq/backend/cython/checkrc.pxd\u001b[0m in \u001b[0;36mzmq.backend.cython.checkrc._check_rc\u001b[0;34m()\u001b[0m\n",
      "\u001b[0;31mKeyboardInterrupt\u001b[0m: ",
      "\nDuring handling of the above exception, another exception occurred:\n",
      "\u001b[0;31mKeyboardInterrupt\u001b[0m                         Traceback (most recent call last)",
      "\u001b[0;32m<ipython-input-153-bb09540241dd>\u001b[0m in \u001b[0;36m<module>\u001b[0;34m\u001b[0m\n\u001b[1;32m     31\u001b[0m \u001b[0;34m\u001b[0m\u001b[0m\n\u001b[1;32m     32\u001b[0m \u001b[0;32mwhile\u001b[0m \u001b[0mgame_on\u001b[0m\u001b[0;34m:\u001b[0m\u001b[0;34m\u001b[0m\u001b[0;34m\u001b[0m\u001b[0m\n\u001b[0;32m---> 33\u001b[0;31m     \u001b[0mguess\u001b[0m \u001b[0;34m=\u001b[0m \u001b[0mint\u001b[0m\u001b[0;34m(\u001b[0m\u001b[0minput\u001b[0m\u001b[0;34m(\u001b[0m\u001b[0;34m'What is your guess? '\u001b[0m\u001b[0;34m)\u001b[0m\u001b[0;34m)\u001b[0m\u001b[0;34m\u001b[0m\u001b[0;34m\u001b[0m\u001b[0m\n\u001b[0m\u001b[1;32m     34\u001b[0m     \u001b[0mpast_guesses\u001b[0m\u001b[0;34m.\u001b[0m\u001b[0mappend\u001b[0m\u001b[0;34m(\u001b[0m\u001b[0mguess\u001b[0m\u001b[0;34m)\u001b[0m\u001b[0;34m\u001b[0m\u001b[0;34m\u001b[0m\u001b[0m\n\u001b[1;32m     35\u001b[0m \u001b[0;34m\u001b[0m\u001b[0m\n",
      "\u001b[0;32m~/anaconda3/lib/python3.7/site-packages/ipykernel/kernelbase.py\u001b[0m in \u001b[0;36mraw_input\u001b[0;34m(self, prompt)\u001b[0m\n\u001b[1;32m    858\u001b[0m             \u001b[0mself\u001b[0m\u001b[0;34m.\u001b[0m\u001b[0m_parent_ident\u001b[0m\u001b[0;34m,\u001b[0m\u001b[0;34m\u001b[0m\u001b[0;34m\u001b[0m\u001b[0m\n\u001b[1;32m    859\u001b[0m             \u001b[0mself\u001b[0m\u001b[0;34m.\u001b[0m\u001b[0m_parent_header\u001b[0m\u001b[0;34m,\u001b[0m\u001b[0;34m\u001b[0m\u001b[0;34m\u001b[0m\u001b[0m\n\u001b[0;32m--> 860\u001b[0;31m             \u001b[0mpassword\u001b[0m\u001b[0;34m=\u001b[0m\u001b[0;32mFalse\u001b[0m\u001b[0;34m,\u001b[0m\u001b[0;34m\u001b[0m\u001b[0;34m\u001b[0m\u001b[0m\n\u001b[0m\u001b[1;32m    861\u001b[0m         )\n\u001b[1;32m    862\u001b[0m \u001b[0;34m\u001b[0m\u001b[0m\n",
      "\u001b[0;32m~/anaconda3/lib/python3.7/site-packages/ipykernel/kernelbase.py\u001b[0m in \u001b[0;36m_input_request\u001b[0;34m(self, prompt, ident, parent, password)\u001b[0m\n\u001b[1;32m    888\u001b[0m             \u001b[0;32mexcept\u001b[0m \u001b[0mKeyboardInterrupt\u001b[0m\u001b[0;34m:\u001b[0m\u001b[0;34m\u001b[0m\u001b[0;34m\u001b[0m\u001b[0m\n\u001b[1;32m    889\u001b[0m                 \u001b[0;31m# re-raise KeyboardInterrupt, to truncate traceback\u001b[0m\u001b[0;34m\u001b[0m\u001b[0;34m\u001b[0m\u001b[0;34m\u001b[0m\u001b[0m\n\u001b[0;32m--> 890\u001b[0;31m                 \u001b[0;32mraise\u001b[0m \u001b[0mKeyboardInterrupt\u001b[0m\u001b[0;34m\u001b[0m\u001b[0;34m\u001b[0m\u001b[0m\n\u001b[0m\u001b[1;32m    891\u001b[0m             \u001b[0;32melse\u001b[0m\u001b[0;34m:\u001b[0m\u001b[0;34m\u001b[0m\u001b[0;34m\u001b[0m\u001b[0m\n\u001b[1;32m    892\u001b[0m                 \u001b[0;32mbreak\u001b[0m\u001b[0;34m\u001b[0m\u001b[0;34m\u001b[0m\u001b[0m\n",
      "\u001b[0;31mKeyboardInterrupt\u001b[0m: "
     ]
    }
   ],
   "source": [
    "from random import randint\n",
    "\n",
    "def get_boundaries(past_guesses, answer):\n",
    "    '''\n",
    "    This function takes a list of past guesses and the answer value\n",
    "    Sorts the list and returns the value to the left and right of the \n",
    "    answers index\n",
    "    '''\n",
    "    past_guesses.sort()\n",
    "    idx = past_guesses.index(answer)\n",
    "    lower,upper = past_guesses[idx - 1], past_guesses[idx + 1]\n",
    "    \n",
    "    if lower < 1:\n",
    "        lower = 1\n",
    "        \n",
    "    if upper > 100:\n",
    "        upper = 100\n",
    "        \n",
    "    return lower, upper\n",
    "\n",
    "\n",
    "\n",
    "print('I\\'m going to think of a number between 1 and 100')\n",
    "answer = randint(1,100)\n",
    "\n",
    "past_guesses = [0,101,answer]\n",
    "\n",
    "print(answer)\n",
    "\n",
    "game_on = True\n",
    "\n",
    "while game_on:\n",
    "    guess = int(input('What is your guess? '))\n",
    "    past_guesses.append(guess)\n",
    "    \n",
    "    lower, upper = get_boundaries(past_guesses, answer)\n",
    "    \n",
    "    if answer == guess:\n",
    "        print('**You win!!**, congratulations')\n",
    "        game_on = False\n",
    "    \n",
    "    elif answer > guess:\n",
    "        print('The number is higher than that')\n",
    "        print(f'The number is between {lower} and {upper}')\n",
    "    \n",
    "    else:\n",
    "        print('The number is lower than that')\n",
    "        print(f'The number is between {lower} and {upper}')"
   ]
  },
  {
   "cell_type": "code",
   "execution_count": 107,
   "metadata": {},
   "outputs": [],
   "source": [
    "potatoe_names = 'desiree kipfler sweet mr.potatoehead russett cocktail'.split()"
   ]
  },
  {
   "cell_type": "code",
   "execution_count": 108,
   "metadata": {},
   "outputs": [
    {
     "data": {
      "text/plain": [
       "['desiree', 'kipfler', 'sweet', 'mr.potatoehead', 'russett', 'cocktail']"
      ]
     },
     "execution_count": 108,
     "metadata": {},
     "output_type": "execute_result"
    }
   ],
   "source": [
    "potatoe_names"
   ]
  },
  {
   "cell_type": "code",
   "execution_count": 110,
   "metadata": {},
   "outputs": [],
   "source": [
    "i = potatoe_names[0]"
   ]
  },
  {
   "cell_type": "code",
   "execution_count": 117,
   "metadata": {},
   "outputs": [
    {
     "data": {
      "text/plain": [
       "'esire'"
      ]
     },
     "execution_count": 117,
     "metadata": {},
     "output_type": "execute_result"
    }
   ],
   "source": [
    "i[1:-1]"
   ]
  },
  {
   "cell_type": "code",
   "execution_count": 118,
   "metadata": {},
   "outputs": [],
   "source": [
    "def peel_em(name_list):\n",
    "    '''\n",
    "    This function takes a list of strings\n",
    "    removes the first and last letter and\n",
    "    returns a list of strings\n",
    "    '''\n",
    "    peeled = []\n",
    "    \n",
    "    for name in name_list:\n",
    "        peeled.append(name[1:-1])\n",
    "    \n",
    "    return peeled"
   ]
  },
  {
   "cell_type": "code",
   "execution_count": 121,
   "metadata": {},
   "outputs": [
    {
     "ename": "TypeError",
     "evalue": "peel_em() missing 1 required positional argument: 'name_list'",
     "output_type": "error",
     "traceback": [
      "\u001b[0;31m---------------------------------------------------------------------------\u001b[0m",
      "\u001b[0;31mTypeError\u001b[0m                                 Traceback (most recent call last)",
      "\u001b[0;32m<ipython-input-121-7bc01667c2aa>\u001b[0m in \u001b[0;36m<module>\u001b[0;34m\u001b[0m\n\u001b[0;32m----> 1\u001b[0;31m \u001b[0mpeel_em\u001b[0m\u001b[0;34m(\u001b[0m\u001b[0;34m)\u001b[0m\u001b[0;34m\u001b[0m\u001b[0;34m\u001b[0m\u001b[0m\n\u001b[0m",
      "\u001b[0;31mTypeError\u001b[0m: peel_em() missing 1 required positional argument: 'name_list'"
     ]
    }
   ],
   "source": [
    "peel_em()"
   ]
  },
  {
   "cell_type": "code",
   "execution_count": 119,
   "metadata": {},
   "outputs": [
    {
     "data": {
      "text/plain": [
       "['esire', 'ipfle', 'wee', 'r.potatoehea', 'usset', 'ocktai']"
      ]
     },
     "execution_count": 119,
     "metadata": {},
     "output_type": "execute_result"
    }
   ],
   "source": [
    "peel_em(potatoe_names)"
   ]
  },
  {
   "cell_type": "code",
   "execution_count": 141,
   "metadata": {},
   "outputs": [],
   "source": [
    "def get_boundaries(past_guesses, answer):\n",
    "    '''\n",
    "    This function takes a list of past guesses and the answer value\n",
    "    Sorts the list and returns the value to the left and right of the \n",
    "    answers index\n",
    "    '''\n",
    "    past_guesses.sort()\n",
    "    idx = past_guesses.index(answer)\n",
    "    lower,upper = past_guesses[idx - 1], past_guesses[idx + 1]\n",
    "    \n",
    "    if lower < 1:\n",
    "        lower = 1\n",
    "        \n",
    "    if upper > 100:\n",
    "        upper = 100\n",
    "        \n",
    "    return lower, upper"
   ]
  },
  {
   "cell_type": "code",
   "execution_count": 146,
   "metadata": {},
   "outputs": [],
   "source": [
    "\n",
    "answer = 100\n",
    "past_guesses = [0,101,50,75,answer]"
   ]
  },
  {
   "cell_type": "code",
   "execution_count": 147,
   "metadata": {},
   "outputs": [],
   "source": [
    "lower, upper = get_boundaries(past_guesses,answer)"
   ]
  },
  {
   "cell_type": "code",
   "execution_count": 148,
   "metadata": {},
   "outputs": [
    {
     "data": {
      "text/plain": [
       "75"
      ]
     },
     "execution_count": 148,
     "metadata": {},
     "output_type": "execute_result"
    }
   ],
   "source": [
    "lower"
   ]
  },
  {
   "cell_type": "code",
   "execution_count": 149,
   "metadata": {},
   "outputs": [
    {
     "data": {
      "text/plain": [
       "100"
      ]
     },
     "execution_count": 149,
     "metadata": {},
     "output_type": "execute_result"
    }
   ],
   "source": [
    "upper"
   ]
  },
  {
   "cell_type": "code",
   "execution_count": null,
   "metadata": {},
   "outputs": [],
   "source": [
    "greater than 100, less than 1, 'forty', '3.6', '{}!#^&#', '', in past_guesses"
   ]
  },
  {
   "cell_type": "code",
   "execution_count": 154,
   "metadata": {},
   "outputs": [
    {
     "name": "stdout",
     "output_type": "stream",
     "text": [
      "What is your guesssljhwlrfbwlerbf\n"
     ]
    }
   ],
   "source": [
    "guess = input('What is your guess')"
   ]
  },
  {
   "cell_type": "code",
   "execution_count": 181,
   "metadata": {},
   "outputs": [
    {
     "name": "stdout",
     "output_type": "stream",
     "text": [
      "What is your guess? wejhjhwefbj\n",
      "your guess must be a whole number between 1 and 100\n",
      "What is your guess? 3.5\n",
      "your guess must be a whole number between 1 and 100\n",
      "What is your guess? -100\n",
      "your guess must be a whole number between 1 and 100\n",
      "What is your guess? 40000\n",
      "your guess must be a whole number between 1 and 100\n",
      "What is your guess? 6\n",
      "6\n"
     ]
    }
   ],
   "source": [
    "guess = input('What is your guess? ')\n",
    "\n",
    "while not (guess.isdigit() and int(guess) >= 1 and int(guess) <= 100):\n",
    "    print('your guess must be a whole number between 1 and 100')\n",
    "    guess = input('What is your guess? ')\n",
    "    \n",
    "print(guess)\n",
    "    "
   ]
  },
  {
   "cell_type": "code",
   "execution_count": null,
   "metadata": {},
   "outputs": [],
   "source": [
    "guess = input('What is your guess')\n",
    "\n",
    "if guess\n",
    "\n",
    "\n",
    "guess = int(input('What is your guess? '))"
   ]
  },
  {
   "cell_type": "code",
   "execution_count": null,
   "metadata": {},
   "outputs": [],
   "source": []
  },
  {
   "cell_type": "code",
   "execution_count": 182,
   "metadata": {},
   "outputs": [],
   "source": [
    "def get_guess():\n",
    "    '''\n",
    "    This function takes no input\n",
    "    get string input from the player, checks that it is an integer between 0 and 101\n",
    "    and not other invalid inputs\n",
    "    and returns a valid guess\n",
    "    '''\n",
    "    guess = input('What is your guess? ')\n",
    "\n",
    "    while not (guess.isdigit() and int(guess) >= 1 and int(guess) <= 100):\n",
    "        print('your guess must be a whole number between 1 and 100')\n",
    "        guess = input('What is your guess? ')\n",
    "\n",
    "    return guess\n",
    "    \n",
    "\n",
    "def give_feedback(guess, answer):\n",
    "    '''\n",
    "    this function takes a value of guess and a value of answer\n",
    "    determines the correct feedback\n",
    "    and returns the feedback string\n",
    "    '''\n",
    "    \n",
    "    if answer > guess:\n",
    "        return \"The answer is higher than that\"\n",
    "    else:\n",
    "        return \"The answer is lower than that\"\n",
    "        "
   ]
  },
  {
   "cell_type": "code",
   "execution_count": 186,
   "metadata": {},
   "outputs": [
    {
     "name": "stdout",
     "output_type": "stream",
     "text": [
      "The answer is higher than that\n"
     ]
    }
   ],
   "source": [
    "print(give_feedback(50,75))"
   ]
  },
  {
   "cell_type": "code",
   "execution_count": 193,
   "metadata": {},
   "outputs": [
    {
     "name": "stdout",
     "output_type": "stream",
     "text": [
      "Writing guessing_game.py\n"
     ]
    }
   ],
   "source": [
    "%%writefile guessing_game.py\n",
    "\n",
    "from random import randint\n",
    "\n",
    "def get_boundaries(past_guesses, answer):\n",
    "    '''\n",
    "    This function takes a list of past guesses and the answer value\n",
    "    Sorts the list and returns the value to the left and right of the \n",
    "    answers index\n",
    "    '''\n",
    "    past_guesses.sort()\n",
    "    idx = past_guesses.index(answer)\n",
    "    lower,upper = past_guesses[idx - 1], past_guesses[idx + 1]\n",
    "    \n",
    "    if lower < 1:\n",
    "        lower = 1\n",
    "        \n",
    "    if upper > 100:\n",
    "        upper = 100\n",
    "        \n",
    "    return f'The number is between {lower} and {upper}'\n",
    "\n",
    "def get_guess():\n",
    "    '''\n",
    "    This function takes no input\n",
    "    get string input from the player, checks that it is an integer between 0 and 101\n",
    "    and not other invalid inputs\n",
    "    and returns a valid guess\n",
    "    '''\n",
    "    guess = input('What is your guess? ')\n",
    "\n",
    "    while not (guess.isdigit() and int(guess) >= 1 and int(guess) <= 100):\n",
    "        print('your guess must be a whole number between 1 and 100')\n",
    "        guess = input('What is your guess? ')\n",
    "\n",
    "    return int(guess)\n",
    "    \n",
    "\n",
    "def give_feedback(guess, answer):\n",
    "    '''\n",
    "    this function takes a value of guess and a value of answer\n",
    "    determines the correct feedback\n",
    "    and returns the feedback string\n",
    "    '''\n",
    "    if answer == guess:\n",
    "        return ''\n",
    "    if answer > guess:\n",
    "        return \"The answer is higher than that\"\n",
    "    else:\n",
    "        return \"The answer is lower than that\"\n",
    "    \n",
    "\n",
    "print('I\\'m going to think of a number between 1 and 100')\n",
    "answer = randint(1,100)\n",
    "\n",
    "past_guesses = [0,101,answer]\n",
    "\n",
    "guess = ''\n",
    "\n",
    "while answer != guess:\n",
    "    guess = get_guess()\n",
    "    past_guesses.append(guess)\n",
    "    \n",
    "    print(give_feedback(guess, answer))\n",
    "    \n",
    "    if answer == guess:\n",
    "        break\n",
    "    \n",
    "    print(get_boundaries(past_guesses, answer))\n",
    "    \n",
    "\n",
    "print('Congratulations you win!')"
   ]
  },
  {
   "cell_type": "code",
   "execution_count": 191,
   "metadata": {},
   "outputs": [
    {
     "name": "stdout",
     "output_type": "stream",
     "text": [
      "The Zen of Python, by Tim Peters\n",
      "\n",
      "Beautiful is better than ugly.\n",
      "Explicit is better than implicit.\n",
      "Simple is better than complex.\n",
      "Complex is better than complicated.\n",
      "Flat is better than nested.\n",
      "Sparse is better than dense.\n",
      "Readability counts.\n",
      "Special cases aren't special enough to break the rules.\n",
      "Although practicality beats purity.\n",
      "Errors should never pass silently.\n",
      "Unless explicitly silenced.\n",
      "In the face of ambiguity, refuse the temptation to guess.\n",
      "There should be one-- and preferably only one --obvious way to do it.\n",
      "Although that way may not be obvious at first unless you're Dutch.\n",
      "Now is better than never.\n",
      "Although never is often better than *right* now.\n",
      "If the implementation is hard to explain, it's a bad idea.\n",
      "If the implementation is easy to explain, it may be a good idea.\n",
      "Namespaces are one honking great idea -- let's do more of those!\n"
     ]
    }
   ],
   "source": [
    "import this"
   ]
  },
  {
   "cell_type": "code",
   "execution_count": null,
   "metadata": {},
   "outputs": [],
   "source": [
    "# %load guessing_game.py\n",
    "\n",
    "from random import randint\n",
    "\n",
    "def get_boundaries(past_guesses, answer):\n",
    "    '''\n",
    "    This function takes a list of past guesses and the answer value\n",
    "    Sorts the list and returns the value to the left and right of the \n",
    "    answers index\n",
    "    '''\n",
    "    past_guesses.sort()\n",
    "    idx = past_guesses.index(answer)\n",
    "    lower,upper = past_guesses[idx - 1], past_guesses[idx + 1]\n",
    "    \n",
    "    if lower < 1:\n",
    "        lower = 1\n",
    "        \n",
    "    if upper > 100:\n",
    "        upper = 100\n",
    "        \n",
    "    return f'The number is between {lower} and {upper}'\n",
    "\n",
    "def get_guess():\n",
    "    '''\n",
    "    This function takes no input\n",
    "    get string input from the player, checks that it is an integer between 0 and 101\n",
    "    and not other invalid inputs\n",
    "    and returns a valid guess\n",
    "    '''\n",
    "    guess = input('What is your guess? ')\n",
    "\n",
    "    while not (guess.isdigit() and int(guess) >= 1 and int(guess) <= 100):\n",
    "        print('your guess must be a whole number between 1 and 100')\n",
    "        guess = input('What is your guess? ')\n",
    "\n",
    "    return int(guess)\n",
    "    \n",
    "\n",
    "def give_feedback(guess, answer):\n",
    "    '''\n",
    "    this function takes a value of guess and a value of answer\n",
    "    determines the correct feedback\n",
    "    and returns the feedback string\n",
    "    '''\n",
    "    if answer == guess:\n",
    "        return ''\n",
    "    if answer > guess:\n",
    "        return \"The answer is higher than that\"\n",
    "    else:\n",
    "        return \"The answer is lower than that\"\n",
    "    \n",
    "\n",
    "print('I\\'m going to think of a number between 1 and 100')\n",
    "answer = randint(1,100)\n",
    "\n",
    "past_guesses = [0,101,answer]\n",
    "\n",
    "guess = ''\n",
    "\n",
    "while answer != guess:\n",
    "    guess = get_guess()\n",
    "    past_guesses.append(guess)\n",
    "    \n",
    "    print(give_feedback(guess, answer))\n",
    "    \n",
    "    if answer == guess:\n",
    "        break\n",
    "    \n",
    "    print(get_boundaries(past_guesses, answer))\n",
    "    \n",
    "\n",
    "print('Congratulations you win!')\n"
   ]
  },
  {
   "cell_type": "code",
   "execution_count": null,
   "metadata": {},
   "outputs": [],
   "source": []
  }
 ],
 "metadata": {
  "kernelspec": {
   "display_name": "Python 3",
   "language": "python",
   "name": "python3"
  },
  "language_info": {
   "codemirror_mode": {
    "name": "ipython",
    "version": 3
   },
   "file_extension": ".py",
   "mimetype": "text/x-python",
   "name": "python",
   "nbconvert_exporter": "python",
   "pygments_lexer": "ipython3",
   "version": "3.7.3"
  }
 },
 "nbformat": 4,
 "nbformat_minor": 2
}
